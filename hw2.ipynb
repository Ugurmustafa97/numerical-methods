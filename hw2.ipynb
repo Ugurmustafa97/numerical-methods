{
 "cells": [
  {
   "cell_type": "code",
   "execution_count": 1,
   "metadata": {},
   "outputs": [],
   "source": [
    "import numpy as np\n",
    "from matplotlib import pyplot as plt\n",
    "from math import *"
   ]
  },
  {
   "cell_type": "code",
   "execution_count": 2,
   "metadata": {},
   "outputs": [],
   "source": [
    "def func(x):\n",
    "    f_x = x*np.sin(x)+5*np.cos(x)-x\n",
    "    # f_x = x**3-10*x**2+5\n",
    "    return f_x"
   ]
  },
  {
   "cell_type": "code",
   "execution_count": 3,
   "metadata": {},
   "outputs": [],
   "source": [
    "def brent(func, a, b, tol=1.0e-9):\n",
    "    x1 = a; x2 = b;\n",
    "    #f1 = feval(func,x1);\n",
    "    f1 = func(x1); f2 = func(x2)\n",
    "    \n",
    "    if f1 == 0:\n",
    "        root = x1\n",
    "        return root\n",
    "    \n",
    "    if f2 == 0:\n",
    "        root = x2\n",
    "        return root\n",
    "    \n",
    "    if f1*f2 > 0.0:\n",
    "        print(\"Root is not bracked in (a,b)\")\n",
    "    \n",
    "    x3 = 0.5*(a+b)\n",
    "    \n",
    "    # Beginning of the iterative loop\n",
    "    for i in range(30):\n",
    "        f3 = func(x3)\n",
    "        if np.abs(f3) < tol: # If satisfies return the value as result\n",
    "            root = x3\n",
    "            return root\n",
    "        if f1*f3 < 0.0:\n",
    "            b = x3\n",
    "        else:\n",
    "            a = x3\n",
    "            \n",
    "        if (b-a) < tol*max(np.abs(b),1.0):\n",
    "            root = 0.5*(a+b)\n",
    "            return root\n",
    "        \n",
    "        denom = (f2-f1)*(f3-f1)*(f2-f3)\n",
    "        numer = x3*(f1-f2)*(f2-f3+f1)+f2*x1*(f2-f3)+f1*x2*(f3-f1)\n",
    "        \n",
    "        if denom == 0:\n",
    "            dx = b-a\n",
    "        else:\n",
    "            dx = f3*numer/denom\n",
    "        \n",
    "        x = x3+dx\n",
    "        \n",
    "        if (b-x)*(x-a) < 0.0:\n",
    "            dx = 0.5*(b-a)\n",
    "            x = a+dx\n",
    "            \n",
    "        if x < x3:\n",
    "            x2 = x3\n",
    "            f2 = f3\n",
    "        else:\n",
    "            x1 = x3\n",
    "            f1 = f3\n",
    "        \n",
    "        x3 = x"
   ]
  },
  {
   "cell_type": "code",
   "execution_count": 4,
   "metadata": {},
   "outputs": [
    {
     "name": "stdout",
     "output_type": "stream",
     "text": [
      "1.57079632679\n"
     ]
    }
   ],
   "source": [
    "a=1.4;b=1.6;\n",
    "#a=0.6;b=0.8;\n",
    "result = brent(func, a, b, tol=1.0e-9)\n",
    "print(result)"
   ]
  },
  {
   "cell_type": "code",
   "execution_count": 5,
   "metadata": {},
   "outputs": [
    {
     "data": {
      "image/png": "[encoded data removed]",
      "text/plain": [
       "<Figure size 432x288 with 1 Axes>"
      ]
     },
     "metadata": {},
     "output_type": "display_data"
    }
   ],
   "source": [
    "x = np.arange(1.4,1.6,0.01);\n",
    "plt.plot(x, func(x))\n",
    "plt.grid(True)\n",
    "plt.annotate('local max', xy=(, 1), xytext=(3, 1.5),\n",
    "            arrowprops=dict(facecolor='black', shrink=0.05),\n",
    "            )"
   ]
  },
  {
   "cell_type": "code",
   "execution_count": 11,
   "metadata": {},
   "outputs": [
    {
     "data": {
      "image/png": "[encoded data removed]",
      "text/plain": [
       "<Figure size 432x288 with 1 Axes>"
      ]
     },
     "metadata": {},
     "output_type": "display_data"
    }
   ],
   "source": [
    "x = np.arange(-5,5,0.01);\n",
    "plt.plot(x, func(x))\n",
    "plt.grid(True)"
   ]
  },
  {
   "cell_type": "code",
   "execution_count": null,
   "metadata": {},
   "outputs": [],
   "source": []
  }
 ],
 "metadata": {
  "kernelspec": {
   "display_name": "Python 3",
   "language": "python",
   "name": "python3"
  },
  "language_info": {
   "codemirror_mode": {
    "name": "ipython",
    "version": 3
   },
   "file_extension": ".py",
   "mimetype": "text/x-python",
   "name": "python",
   "nbconvert_exporter": "python",
   "pygments_lexer": "ipython3",
   "version": "3.6.4"
  }
 },
 "nbformat": 4,
 "nbformat_minor": 2
}
